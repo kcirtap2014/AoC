{
 "cells": [
  {
   "cell_type": "code",
   "execution_count": 1,
   "metadata": {},
   "outputs": [],
   "source": [
    "from pathlib import Path\n",
    "\n",
    "cwd = Path.cwd()\n"
   ]
  },
  {
   "cell_type": "code",
   "execution_count": 2,
   "metadata": {},
   "outputs": [],
   "source": [
    "input_file = cwd / \"input.txt\"\n",
    "input_simple = cwd / \"input_simple.txt\"\n"
   ]
  },
  {
   "cell_type": "code",
   "execution_count": 3,
   "metadata": {},
   "outputs": [],
   "source": [
    "input = input_file.read_text().splitlines()\n",
    "input_simple = input_simple.read_text().splitlines()"
   ]
  },
  {
   "cell_type": "code",
   "execution_count": 28,
   "metadata": {},
   "outputs": [],
   "source": [
    "def parse_input(input):\n",
    "    totals = 0\n",
    "    for line in input:\n",
    "        list_input = line.split(\" | \")\n",
    "        winning = set([int(x.strip()) for x in list_input[0].split(\":\")[-1].split(\" \") if x.strip() != \"\"])\n",
    "        numbers = set([int(x.strip()) for x in list_input[1].split(\" \") if x.strip() != \"\"])\n",
    "        intersect = winning.intersection(numbers)\n",
    "        total = 2**(len(intersect)-1) if len(intersect) > 0 else 0\n",
    "        totals +=total\n",
    "    \n",
    "\n",
    "    return totals"
   ]
  },
  {
   "cell_type": "code",
   "execution_count": 29,
   "metadata": {},
   "outputs": [
    {
     "data": {
      "text/plain": [
       "20855"
      ]
     },
     "execution_count": 29,
     "metadata": {},
     "output_type": "execute_result"
    }
   ],
   "source": [
    "parse_input(input)"
   ]
  },
  {
   "cell_type": "code",
   "execution_count": 47,
   "metadata": {},
   "outputs": [],
   "source": [
    "from collections import defaultdict\n",
    "def parse_input2(input):\n",
    "    copies_dict = defaultdict(lambda: 1)\n",
    "\n",
    "    for i, line in enumerate(input):\n",
    "        list_input = line.split(\" | \")\n",
    "        winning = set([int(x.strip()) for x in list_input[0].split(\":\")[-1].split(\" \") if x.strip() != \"\"])\n",
    "        numbers = set([int(x.strip()) for x in list_input[1].split(\" \") if x.strip() != \"\"])\n",
    "        intersect = winning.intersection(numbers)\n",
    "\n",
    "        for _ in range(copies_dict[i]):\n",
    "            for num in range(len(intersect)):\n",
    "                copies_dict[i+num+1] += 1 \n",
    "      \n",
    "    total = sum(copies_dict.values())\n",
    "    return total\n",
    "\n",
    "    "
   ]
  },
  {
   "cell_type": "code",
   "execution_count": 49,
   "metadata": {},
   "outputs": [
    {
     "data": {
      "text/plain": [
       "5489600"
      ]
     },
     "execution_count": 49,
     "metadata": {},
     "output_type": "execute_result"
    }
   ],
   "source": [
    "parse_input2(input)"
   ]
  }
 ],
 "metadata": {
  "kernelspec": {
   "display_name": "ple_env",
   "language": "python",
   "name": "python3"
  },
  "language_info": {
   "codemirror_mode": {
    "name": "ipython",
    "version": 3
   },
   "file_extension": ".py",
   "mimetype": "text/x-python",
   "name": "python",
   "nbconvert_exporter": "python",
   "pygments_lexer": "ipython3",
   "version": "3.9.7"
  }
 },
 "nbformat": 4,
 "nbformat_minor": 2
}
