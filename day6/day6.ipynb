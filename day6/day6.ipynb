{
 "cells": [
  {
   "cell_type": "code",
   "execution_count": 2,
   "metadata": {},
   "outputs": [],
   "source": [
    "from pathlib import Path\n",
    "\n",
    "cwd = Path.cwd()\n",
    "input_file = cwd / \"input.txt\"\n",
    "input_simple = cwd / \"input_simple.txt\"\n",
    "input = input_file.read_text().splitlines()\n",
    "input_simple = input_simple.read_text().splitlines()"
   ]
  },
  {
   "cell_type": "code",
   "execution_count": 31,
   "metadata": {},
   "outputs": [],
   "source": [
    "import numpy as np\n",
    "\n",
    "def parse_input(input, no_split=False):\n",
    "    \n",
    "    if no_split:\n",
    "        time = int(input[0].split(\": \")[-1].replace(\" \", \"\"))\n",
    "        distance= int(input[1].split(\": \")[-1].replace(\" \", \"\"))\n",
    "    else:\n",
    "        time = np.array(input[0].split(\": \")[-1].split()).astype('int')\n",
    "        distance= np.array(input[1].split(\": \")[-1].split()).astype('int')\n",
    "    return time, distance"
   ]
  },
  {
   "cell_type": "code",
   "execution_count": 43,
   "metadata": {},
   "outputs": [],
   "source": [
    "time, distance = parse_input(input, no_split=True)\n"
   ]
  },
  {
   "cell_type": "code",
   "execution_count": 44,
   "metadata": {},
   "outputs": [
    {
     "data": {
      "text/plain": [
       "(59707878, 430121812131276)"
      ]
     },
     "execution_count": 44,
     "metadata": {},
     "output_type": "execute_result"
    }
   ],
   "source": [
    "time, distance"
   ]
  },
  {
   "cell_type": "code",
   "execution_count": 55,
   "metadata": {},
   "outputs": [],
   "source": [
    "def compute_distance(time, distance):\n",
    "    n_time = []\n",
    "    multiply = 1\n",
    "    if isinstance(time, int):\n",
    "        accelerate = np.arange(0, time).astype(\"int64\")\n",
    "        time_left = time - accelerate\n",
    "        distance_covered = accelerate * time_left\n",
    "        n = len(distance_covered[distance_covered >distance])\n",
    "        multiply *= n\n",
    "        n_time.append(n)\n",
    "    else:\n",
    "        for idx, t in enumerate(time):\n",
    "            accelerate = np.arange(0, t)\n",
    "            time_left = t- accelerate\n",
    "            distance_covered = accelerate * time_left\n",
    "            n = len(distance_covered[distance_covered >[distance[idx]]])\n",
    "            multiply *= n\n",
    "            n_time.append(n)\n",
    "    return n_time, multiply"
   ]
  },
  {
   "cell_type": "code",
   "execution_count": 56,
   "metadata": {},
   "outputs": [
    {
     "name": "stdout",
     "output_type": "stream",
     "text": [
      "[485393900000000 485393940292121 485393980584240 485394020876357\n",
      " 485394061168472 485394101460585 485394141752696 485394182044805\n",
      " 485394222336912 485394262629017]\n"
     ]
    }
   ],
   "source": [
    "n_times, multiply = compute_distance(time, distance)"
   ]
  },
  {
   "cell_type": "code",
   "execution_count": 57,
   "metadata": {},
   "outputs": [
    {
     "data": {
      "text/plain": [
       "([42948149], 42948149)"
      ]
     },
     "execution_count": 57,
     "metadata": {},
     "output_type": "execute_result"
    }
   ],
   "source": [
    "n_times, multiply"
   ]
  }
 ],
 "metadata": {
  "kernelspec": {
   "display_name": "ple_env",
   "language": "python",
   "name": "python3"
  },
  "language_info": {
   "codemirror_mode": {
    "name": "ipython",
    "version": 3
   },
   "file_extension": ".py",
   "mimetype": "text/x-python",
   "name": "python",
   "nbconvert_exporter": "python",
   "pygments_lexer": "ipython3",
   "version": "3.9.7"
  }
 },
 "nbformat": 4,
 "nbformat_minor": 2
}
