{
 "cells": [
  {
   "cell_type": "code",
   "execution_count": 42,
   "metadata": {},
   "outputs": [],
   "source": [
    "from pathlib import Path\n",
    "\n",
    "cwd = Path.cwd()\n",
    "\n",
    "input_file = cwd / \"input.txt\"\n",
    "input_simple = cwd / \"input_simple.txt\"\n",
    "input_simple2 = cwd / \"input_simple2.txt\"\n",
    "\n",
    "\n",
    "input = input_file.read_text().splitlines()\n",
    "input_simple = input_simple.read_text().splitlines()\n",
    "input_simple2 = input_simple2.read_text().splitlines()"
   ]
  },
  {
   "cell_type": "code",
   "execution_count": 34,
   "metadata": {},
   "outputs": [],
   "source": [
    "from collections import defaultdict\n",
    "def parse_input(input, ):\n",
    "    \n",
    "    data = defaultdict(dict)\n",
    "    data[\"seq\"]= [x for x in input[0].strip()]\n",
    "\n",
    "    for line in input[2:]:\n",
    "        key = line.split(\"=\")[0].strip()\n",
    "        sec = line.split(\"=\")[-1]\n",
    "        data[key][\"L\"] = sec.split(\",\")[0].replace(\"(\", \"\").strip()\n",
    "        data[key][\"R\"] = sec.split(\",\")[1].replace(\")\", \"\").strip()\n",
    "\n",
    "    return data"
   ]
  },
  {
   "cell_type": "code",
   "execution_count": 53,
   "metadata": {},
   "outputs": [],
   "source": [
    "def get_next(data, current, direction):\n",
    "    if direction == \"R\":\n",
    "        return data[current][\"R\"]\n",
    "    else:\n",
    "        return data[current][\"L\"]"
   ]
  },
  {
   "cell_type": "code",
   "execution_count": 54,
   "metadata": {},
   "outputs": [],
   "source": [
    "def traverse(data,):\n",
    "    current = \"AAA\"\n",
    "    n_steps = 0\n",
    "    seq = data[\"seq\"]\n",
    "\n",
    "    while True:\n",
    "        \n",
    "        direction = seq[n_steps % len(seq)]\n",
    "        current = get_next(data, current, direction)\n",
    "        n_steps += 1\n",
    "        if current == \"ZZZ\":\n",
    "            break\n",
    "    return n_steps"
   ]
  },
  {
   "cell_type": "code",
   "execution_count": 80,
   "metadata": {},
   "outputs": [],
   "source": [
    "import math\n",
    "\n",
    "def multiple_traverse(data):\n",
    "    \n",
    "    origins= [element for element in data.keys() if element.endswith('A')]\n",
    "    seq = data[\"seq\"]\n",
    "    n_steps_list = []\n",
    "\n",
    "    for origin in origins:\n",
    "        n_steps = 0\n",
    "        current = origin\n",
    "\n",
    "        while True:\n",
    "            direction = seq[n_steps % len(seq)]\n",
    "            current = get_next(data, current, direction)\n",
    "            n_steps += 1\n",
    "\n",
    "            if current.endswith(\"Z\"):\n",
    "                break\n",
    "\n",
    "        n_steps_list.append(n_steps)\n",
    "   \n",
    "    return  n_steps_list"
   ]
  },
  {
   "cell_type": "code",
   "execution_count": 81,
   "metadata": {},
   "outputs": [],
   "source": [
    "data = parse_input(input)"
   ]
  },
  {
   "cell_type": "code",
   "execution_count": 82,
   "metadata": {},
   "outputs": [],
   "source": [
    "n_steps_list = multiple_traverse(data)\n",
    "\n"
   ]
  },
  {
   "cell_type": "code",
   "execution_count": 83,
   "metadata": {},
   "outputs": [
    {
     "data": {
      "text/plain": [
       "20685524831999"
      ]
     },
     "execution_count": 83,
     "metadata": {},
     "output_type": "execute_result"
    }
   ],
   "source": [
    "lcm = math.lcm(*n_steps_list)\n",
    "lcm"
   ]
  },
  {
   "cell_type": "code",
   "execution_count": 84,
   "metadata": {},
   "outputs": [
    {
     "data": {
      "text/plain": [
       "[17621, 18673, 20777, 12361, 19199, 16043]"
      ]
     },
     "execution_count": 84,
     "metadata": {},
     "output_type": "execute_result"
    }
   ],
   "source": [
    "n_steps_list"
   ]
  },
  {
   "cell_type": "code",
   "execution_count": null,
   "metadata": {},
   "outputs": [],
   "source": []
  }
 ],
 "metadata": {
  "kernelspec": {
   "display_name": "ple_env",
   "language": "python",
   "name": "python3"
  },
  "language_info": {
   "codemirror_mode": {
    "name": "ipython",
    "version": 3
   },
   "file_extension": ".py",
   "mimetype": "text/x-python",
   "name": "python",
   "nbconvert_exporter": "python",
   "pygments_lexer": "ipython3",
   "version": "3.9.7"
  }
 },
 "nbformat": 4,
 "nbformat_minor": 2
}
