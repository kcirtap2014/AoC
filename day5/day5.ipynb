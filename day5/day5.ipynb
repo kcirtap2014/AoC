{
 "cells": [
  {
   "cell_type": "code",
   "execution_count": 1,
   "metadata": {},
   "outputs": [],
   "source": [
    "from pathlib import Path\n",
    "\n",
    "cwd = Path.cwd()\n"
   ]
  },
  {
   "cell_type": "code",
   "execution_count": 2,
   "metadata": {},
   "outputs": [],
   "source": [
    "input_file = cwd / \"input.txt\"\n",
    "input_simple = cwd / \"input_simple.txt\"\n"
   ]
  },
  {
   "cell_type": "code",
   "execution_count": 3,
   "metadata": {},
   "outputs": [],
   "source": [
    "input = input_file.read_text().splitlines()\n",
    "input_simple = input_simple.read_text().splitlines()"
   ]
  },
  {
   "cell_type": "code",
   "execution_count": 4,
   "metadata": {},
   "outputs": [],
   "source": [
    "from collections import defaultdict\n",
    "import numpy as np\n",
    "\n",
    "def parse_input(input, step=2):\n",
    "    infos = defaultdict(list)\n",
    "    if step==2:\n",
    "        seeds = np.array(input[0].split(\": \")[-1].split(\" \")).astype('int64')\n",
    "        infos[\"seed\"] = np.concatenate((np.arange(seeds[0],seeds[0]+seeds[1]),np.arange(seeds[2],seeds[2]+seeds[3]))).astype(\"int64\")\n",
    "        \n",
    "    else:\n",
    "        infos[\"seed\"] = np.array(input[0].split(\": \")[-1].split(\" \")).astype(\"int64\")\n",
    "    line_number = {} \n",
    "\n",
    "    for idx, line in enumerate(input[1:]):\n",
    "        if line == \"seed-to-soil map:\":\n",
    "            line_number[\"seed-to-soil\"] = idx + 1\n",
    "        \n",
    "        if line == \"soil-to-fertilizer map:\":\n",
    "            line_number[\"soil-to-fertilizer\"] = idx + 1\n",
    "        \n",
    "        if line == \"fertilizer-to-water map:\": \n",
    "            line_number[\"fertilizer-to-water\"] = idx + 1\n",
    "        \n",
    "        if line == \"water-to-light map:\":\n",
    "            line_number[\"water-to-light\"] = idx + 1\n",
    "        \n",
    "        if line == \"light-to-temperature map:\":\n",
    "            line_number[\"light-to-temperature\"] = idx + 1\n",
    "        \n",
    "        if line == \"temperature-to-humidity map:\":\n",
    "            line_number[\"temperature-to-humidity\"] = idx + 1\n",
    "\n",
    "        if line == \"humidity-to-location map:\":\n",
    "            line_number[\"humidity-to-location\"] = idx + 1\n",
    "    \n",
    "\n",
    "    for line in range(line_number[\"seed-to-soil\"] +1, line_number[\"soil-to-fertilizer\"]-1):\n",
    "        infos[\"seed-to-soil\"].append(np.array(input[line].split(\" \")).astype(\"int64\"))\n",
    "    \n",
    "    for line in range(line_number[\"soil-to-fertilizer\"] +1, line_number[\"fertilizer-to-water\"]-1):\n",
    "        infos[\"soil-to-fertilizer\"].append(np.array(input[line].split(\" \")).astype(\"int64\"))\n",
    "    \n",
    "    for line in range(line_number[\"fertilizer-to-water\"] +1, line_number[\"water-to-light\"]-1):\n",
    "        infos[\"fertilizer-to-water\"].append(np.array(input[line].split(\" \")).astype(\"int64\"))\n",
    "    \n",
    "    for line in range(line_number[\"water-to-light\"] +1, line_number[\"light-to-temperature\"]-1):\n",
    "        infos[\"water-to-light\"].append(np.array(input[line].split(\" \")).astype(\"int64\"))\n",
    "     \n",
    "    for line in range(line_number[\"light-to-temperature\"] +1, line_number[\"temperature-to-humidity\"]-1):\n",
    "        infos[\"light-to-temperature\"].append(np.array(input[line].split(\" \")).astype(\"int64\"))\n",
    "\n",
    "    for line in range(line_number[\"temperature-to-humidity\"] +1, line_number[\"humidity-to-location\"]-1):\n",
    "        infos[\"temperature-to-humidity\"].append(np.array(input[line].split(\" \")).astype(\"int64\"))\n",
    "    \n",
    "    for line in range(line_number[\"humidity-to-location\"] + 1, len(input)):\n",
    "        infos[\"humidity-to-location\"].append(np.array(input[line].split(\" \")).astype(\"int64\"))\n",
    "    return infos"
   ]
  },
  {
   "cell_type": "code",
   "execution_count": 5,
   "metadata": {},
   "outputs": [],
   "source": [
    "infos = parse_input(input, step=2)"
   ]
  },
  {
   "cell_type": "code",
   "execution_count": 116,
   "metadata": {},
   "outputs": [],
   "source": [
    "def create_mapping(infos):\n",
    "\n",
    "    result = defaultdict(list)\n",
    "\n",
    "    for k in infos[\"seed\"]:\n",
    "        new_value = k.copy()\n",
    "        \n",
    "        for kinfo, v in infos.items():\n",
    "            if kinfo != \"seed\":\n",
    "                for kv in v:\n",
    "                    if new_value>=kv[1] and new_value<(kv[1]+kv[2]):\n",
    "                        dist = new_value - kv[1] \n",
    "                        new_value = kv[0] + dist\n",
    "                        break\n",
    "                \n",
    "                result[k].append(new_value)\n",
    "    \n",
    "    return result\n"
   ]
  },
  {
   "cell_type": "code",
   "execution_count": 117,
   "metadata": {},
   "outputs": [
    {
     "ename": "KeyboardInterrupt",
     "evalue": "",
     "output_type": "error",
     "traceback": [
      "\u001b[1;31m---------------------------------------------------------------------------\u001b[0m",
      "\u001b[1;31mKeyboardInterrupt\u001b[0m                         Traceback (most recent call last)",
      "\u001b[1;32m~\\AppData\\Local\\Temp\\ipykernel_34292\\2151568298.py\u001b[0m in \u001b[0;36m<module>\u001b[1;34m\u001b[0m\n\u001b[1;32m----> 1\u001b[1;33m \u001b[0mresult\u001b[0m \u001b[1;33m=\u001b[0m \u001b[0mcreate_mapping\u001b[0m\u001b[1;33m(\u001b[0m\u001b[0minfos\u001b[0m\u001b[1;33m)\u001b[0m\u001b[1;33m\u001b[0m\u001b[1;33m\u001b[0m\u001b[0m\n\u001b[0m",
      "\u001b[1;32m~\\AppData\\Local\\Temp\\ipykernel_34292\\2495871374.py\u001b[0m in \u001b[0;36mcreate_mapping\u001b[1;34m(infos)\u001b[0m\n\u001b[0;32m      9\u001b[0m             \u001b[1;32mif\u001b[0m \u001b[0mkinfo\u001b[0m \u001b[1;33m!=\u001b[0m \u001b[1;34m\"seed\"\u001b[0m\u001b[1;33m:\u001b[0m\u001b[1;33m\u001b[0m\u001b[1;33m\u001b[0m\u001b[0m\n\u001b[0;32m     10\u001b[0m                 \u001b[1;32mfor\u001b[0m \u001b[0mkv\u001b[0m \u001b[1;32min\u001b[0m \u001b[0mv\u001b[0m\u001b[1;33m:\u001b[0m\u001b[1;33m\u001b[0m\u001b[1;33m\u001b[0m\u001b[0m\n\u001b[1;32m---> 11\u001b[1;33m                     \u001b[1;32mif\u001b[0m \u001b[0mnew_value\u001b[0m\u001b[1;33m>=\u001b[0m\u001b[0mkv\u001b[0m\u001b[1;33m[\u001b[0m\u001b[1;36m1\u001b[0m\u001b[1;33m]\u001b[0m \u001b[1;32mand\u001b[0m \u001b[0mnew_value\u001b[0m\u001b[1;33m<\u001b[0m\u001b[1;33m(\u001b[0m\u001b[0mkv\u001b[0m\u001b[1;33m[\u001b[0m\u001b[1;36m1\u001b[0m\u001b[1;33m]\u001b[0m\u001b[1;33m+\u001b[0m\u001b[0mkv\u001b[0m\u001b[1;33m[\u001b[0m\u001b[1;36m2\u001b[0m\u001b[1;33m]\u001b[0m\u001b[1;33m)\u001b[0m\u001b[1;33m:\u001b[0m\u001b[1;33m\u001b[0m\u001b[1;33m\u001b[0m\u001b[0m\n\u001b[0m\u001b[0;32m     12\u001b[0m                         \u001b[0mdist\u001b[0m \u001b[1;33m=\u001b[0m \u001b[0mnew_value\u001b[0m \u001b[1;33m-\u001b[0m \u001b[0mkv\u001b[0m\u001b[1;33m[\u001b[0m\u001b[1;36m1\u001b[0m\u001b[1;33m]\u001b[0m\u001b[1;33m\u001b[0m\u001b[1;33m\u001b[0m\u001b[0m\n\u001b[0;32m     13\u001b[0m                         \u001b[0mnew_value\u001b[0m \u001b[1;33m=\u001b[0m \u001b[0mkv\u001b[0m\u001b[1;33m[\u001b[0m\u001b[1;36m0\u001b[0m\u001b[1;33m]\u001b[0m \u001b[1;33m+\u001b[0m \u001b[0mdist\u001b[0m\u001b[1;33m\u001b[0m\u001b[1;33m\u001b[0m\u001b[0m\n",
      "\u001b[1;31mKeyboardInterrupt\u001b[0m: "
     ]
    }
   ],
   "source": [
    "result = create_mapping(infos)"
   ]
  },
  {
   "cell_type": "code",
   "execution_count": 6,
   "metadata": {},
   "outputs": [],
   "source": [
    "def create_mapping_vectorise(infos):\n",
    "\n",
    "    new_values = infos[\"seed\"]\n",
    "  \n",
    "    for kinfo, v in infos.items():\n",
    "        if kinfo != \"seed\":\n",
    "            mapped = np.zeros_like(new_values)\n",
    "            for kv in v:\n",
    "                mask = (new_values>=kv[1]) & (new_values<(kv[1]+kv[2])) & (mapped==0)\n",
    "                dist = new_values[mask] - kv[1] \n",
    "                new_values[mask] = kv[0] + dist\n",
    "                mapped[mask] = 1\n",
    "            \n",
    "                \n",
    "    return new_values"
   ]
  },
  {
   "cell_type": "code",
   "execution_count": 7,
   "metadata": {},
   "outputs": [],
   "source": [
    "result = create_mapping_vectorise(infos)"
   ]
  },
  {
   "cell_type": "code",
   "execution_count": null,
   "metadata": {},
   "outputs": [
    {
     "data": {
      "text/plain": [
       "46"
      ]
     },
     "execution_count": 113,
     "metadata": {},
     "output_type": "execute_result"
    }
   ],
   "source": [
    "min_result= np.min([v[-1] for k, v in result.items()])\n",
    "min_result"
   ]
  }
 ],
 "metadata": {
  "kernelspec": {
   "display_name": "ple_env",
   "language": "python",
   "name": "python3"
  },
  "language_info": {
   "codemirror_mode": {
    "name": "ipython",
    "version": 3
   },
   "file_extension": ".py",
   "mimetype": "text/x-python",
   "name": "python",
   "nbconvert_exporter": "python",
   "pygments_lexer": "ipython3",
   "version": "3.9.7"
  }
 },
 "nbformat": 4,
 "nbformat_minor": 2
}
